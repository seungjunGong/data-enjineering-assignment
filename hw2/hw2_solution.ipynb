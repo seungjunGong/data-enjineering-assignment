{
 "cells": [
  {
   "cell_type": "markdown",
   "id": "95f76415-39c9-4e4e-83ea-61daa8b2c131",
   "metadata": {},
   "source": [
    "## Subjects and Grades organization program"
   ]
  },
  {
   "cell_type": "code",
   "execution_count": 30,
   "id": "91366969-4511-4ae0-9f09-ce53bc71cce0",
   "metadata": {
    "tags": []
   },
   "outputs": [],
   "source": [
    "# Create subject list\n",
    "subjects = [\"physics\", \"calculus\", \"poetry\", \"history\"]"
   ]
  },
  {
   "cell_type": "code",
   "execution_count": 31,
   "id": "7f6ef3bb-b681-44cf-93d1-78fe644a89d0",
   "metadata": {
    "tags": []
   },
   "outputs": [],
   "source": [
    "# Create grade list\n",
    "grades = [98, 97, 85, 88]"
   ]
  },
  {
   "cell_type": "code",
   "execution_count": 32,
   "id": "31f1bea1-08a3-425b-86d0-f2bbc2570661",
   "metadata": {
    "tags": []
   },
   "outputs": [],
   "source": [
    "# Create gradebook [subject : grade]\n",
    "gradebook = [[subjects[i], grades[i]] for i in range(len(subjects))]"
   ]
  },
  {
   "cell_type": "code",
   "execution_count": 33,
   "id": "e299a957-aaae-4907-80a0-9699d1a7a612",
   "metadata": {
    "tags": []
   },
   "outputs": [
    {
     "name": "stdout",
     "output_type": "stream",
     "text": [
      "[['physics', 98], ['calculus', 97], ['poetry', 85], ['history', 88]]\n"
     ]
    }
   ],
   "source": [
    "# Print gradebook\n",
    "print(gradebook)"
   ]
  },
  {
   "cell_type": "code",
   "execution_count": 34,
   "id": "321cefb7-9d55-410f-8b26-03eaef2a89c4",
   "metadata": {
    "tags": []
   },
   "outputs": [
    {
     "data": {
      "text/plain": [
       "[['physics', 98],\n",
       " ['calculus', 97],\n",
       " ['poetry', 85],\n",
       " ['history', 88],\n",
       " ['computer science', 100]]"
      ]
     },
     "execution_count": 34,
     "metadata": {},
     "output_type": "execute_result"
    }
   ],
   "source": [
    "# Add \"computer science\"\n",
    "gradebook.append([\"computer science\", 100])\n",
    "gradebook"
   ]
  },
  {
   "cell_type": "code",
   "execution_count": 35,
   "id": "7e238304-c95a-4d74-97d5-f2f7e4b683bd",
   "metadata": {
    "tags": []
   },
   "outputs": [
    {
     "data": {
      "text/plain": [
       "[['physics', 98],\n",
       " ['calculus', 97],\n",
       " ['poetry', 85],\n",
       " ['history', 88],\n",
       " ['computer science', 100],\n",
       " ['visual arts', 93]]"
      ]
     },
     "execution_count": 35,
     "metadata": {},
     "output_type": "execute_result"
    }
   ],
   "source": [
    "# Add \"visual arts\"\n",
    "gradebook.append([\"visual arts\", 93])\n",
    "gradebook"
   ]
  },
  {
   "cell_type": "code",
   "execution_count": 36,
   "id": "24d32ffe-2173-4eb9-b66c-eee4c11768d2",
   "metadata": {
    "tags": []
   },
   "outputs": [
    {
     "data": {
      "text/plain": [
       "[['physics', 98],\n",
       " ['calculus', 97],\n",
       " ['poetry', 85],\n",
       " ['history', 88],\n",
       " ['computer science', 100],\n",
       " ['visual arts', 98]]"
      ]
     },
     "execution_count": 36,
     "metadata": {},
     "output_type": "execute_result"
    }
   ],
   "source": [
    "# Add 5 points \"visual arts\"\n",
    "gradebook[5][1] += 5\n",
    "gradebook"
   ]
  },
  {
   "cell_type": "code",
   "execution_count": 37,
   "id": "92dc075d-2f11-4bb3-bec1-25f18bb5f7a6",
   "metadata": {
    "tags": []
   },
   "outputs": [
    {
     "data": {
      "text/plain": [
       "[['physics', 98],\n",
       " ['calculus', 97],\n",
       " ['poetry'],\n",
       " ['history', 88],\n",
       " ['computer science', 100],\n",
       " ['visual arts', 98]]"
      ]
     },
     "execution_count": 37,
     "metadata": {},
     "output_type": "execute_result"
    }
   ],
   "source": [
    "# Delete \"poetry\" grade\n",
    "gradebook[2].remove(85)\n",
    "gradebook"
   ]
  },
  {
   "cell_type": "code",
   "execution_count": 38,
   "id": "a74c7139-c5da-4ac2-969e-c20c28b277dd",
   "metadata": {
    "tags": []
   },
   "outputs": [
    {
     "data": {
      "text/plain": [
       "[['physics', 98],\n",
       " ['calculus', 97],\n",
       " ['poetry', 'Pass'],\n",
       " ['history', 88],\n",
       " ['computer science', 100],\n",
       " ['visual arts', 98]]"
      ]
     },
     "execution_count": 38,
     "metadata": {},
     "output_type": "execute_result"
    }
   ],
   "source": [
    "# Add \"Pass\" to \"poetry\"\n",
    "gradebook[2].append(\"Pass\")\n",
    "gradebook"
   ]
  },
  {
   "cell_type": "code",
   "execution_count": 39,
   "id": "11601340-d704-437a-abce-f1109d5e617f",
   "metadata": {
    "tags": []
   },
   "outputs": [],
   "source": [
    "# Create last_semester_gradebook\n",
    "last_semester_gradebook = [[\"politics\", 80], [\"latin\", 96], [\"dance\", 97], [\"architecture\", 65]]"
   ]
  },
  {
   "cell_type": "code",
   "execution_count": 40,
   "id": "274b6477-f9ef-4dbd-8c6c-e7550724e237",
   "metadata": {
    "tags": []
   },
   "outputs": [
    {
     "data": {
      "text/plain": [
       "[['politics', 80],\n",
       " ['latin', 96],\n",
       " ['dance', 97],\n",
       " ['architecture', 65],\n",
       " ['physics', 98],\n",
       " ['calculus', 97],\n",
       " ['poetry', 'Pass'],\n",
       " ['history', 88],\n",
       " ['computer science', 100],\n",
       " ['visual arts', 98]]"
      ]
     },
     "execution_count": 40,
     "metadata": {},
     "output_type": "execute_result"
    }
   ],
   "source": [
    "# Create full_gradebook\n",
    "full_gradebook = last_semester_gradebook + gradebook\n",
    "full_gradebook"
   ]
  }
 ],
 "metadata": {
  "kernelspec": {
   "display_name": "Python 3 (ipykernel)",
   "language": "python",
   "name": "python3"
  },
  "language_info": {
   "codemirror_mode": {
    "name": "ipython",
    "version": 3
   },
   "file_extension": ".py",
   "mimetype": "text/x-python",
   "name": "python",
   "nbconvert_exporter": "python",
   "pygments_lexer": "ipython3",
   "version": "3.11.4"
  }
 },
 "nbformat": 4,
 "nbformat_minor": 5
}
