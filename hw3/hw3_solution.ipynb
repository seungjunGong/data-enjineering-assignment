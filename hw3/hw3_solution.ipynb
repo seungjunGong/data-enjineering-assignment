{
 "cells": [
  {
   "cell_type": "markdown",
   "id": "668c6dd0-4294-46e1-b81b-ba928184c582",
   "metadata": {},
   "source": [
    "## Program calculating Carly's Clippers data "
   ]
  },
  {
   "cell_type": "code",
   "execution_count": 29,
   "id": "c6e9c0d5-d7fe-40ce-81b3-ea4b834a3cfa",
   "metadata": {
    "tags": []
   },
   "outputs": [],
   "source": [
    "# data list set\n",
    "\n",
    "# hairstyles: the names of the cuts offered at Carly’s Clippers.\n",
    "hairstyles = [\"bouffant\", \"pixie\", \"dreadlocks\", \"crew\", \"bowl\", \"bob\", \"mohawk\", \"flattop\"]\n",
    "# prices: the price of each hairstyle in the hairstyles list.\n",
    "prices = [30, 25, 40, 20, 20, 35, 50, 35]\n",
    "# last_week: the number of purchases for each hairstyle type in the last week.\n",
    "last_week = [2, 3, 5, 8, 4, 4, 6, 2]"
   ]
  },
  {
   "cell_type": "code",
   "execution_count": 30,
   "id": "4593bef6-0131-4d5c-8024-fd612699a468",
   "metadata": {
    "tags": []
   },
   "outputs": [],
   "source": [
    "# Create total_price\n",
    "total_price = 0"
   ]
  },
  {
   "cell_type": "code",
   "execution_count": 31,
   "id": "411fe2a2-27cd-489b-a540-8746f6454ad2",
   "metadata": {
    "tags": []
   },
   "outputs": [
    {
     "data": {
      "text/plain": [
       "255"
      ]
     },
     "execution_count": 31,
     "metadata": {},
     "output_type": "execute_result"
    }
   ],
   "source": [
    "for price in prices:\n",
    "    total_price += price\n",
    "total_price"
   ]
  },
  {
   "cell_type": "code",
   "execution_count": 32,
   "id": "c07d6795-5831-4ad3-bba4-81952b30c881",
   "metadata": {
    "tags": []
   },
   "outputs": [],
   "source": [
    "# Create average_price\n",
    "average_price = total_price / len(prices)"
   ]
  },
  {
   "cell_type": "code",
   "execution_count": 33,
   "id": "4eef3fc0-8f0d-422a-a94d-23f82848b3fe",
   "metadata": {
    "tags": []
   },
   "outputs": [
    {
     "name": "stdout",
     "output_type": "stream",
     "text": [
      "Average price is 31.875\n"
     ]
    }
   ],
   "source": [
    "# Print average_price\n",
    "print(\"Average price is\", average_price)"
   ]
  },
  {
   "cell_type": "code",
   "execution_count": 34,
   "id": "d4d8294d-cb9f-4762-9a3c-fab7636dc6ea",
   "metadata": {
    "tags": []
   },
   "outputs": [],
   "source": [
    "# Create new_prices, cut all prices by 5 dollars\n",
    "new_prices = [price-5 for price in prices]"
   ]
  },
  {
   "cell_type": "code",
   "execution_count": 35,
   "id": "a93eeed8-3632-4e5e-b919-3fa8a721b533",
   "metadata": {
    "tags": []
   },
   "outputs": [
    {
     "name": "stdout",
     "output_type": "stream",
     "text": [
      "[25, 20, 35, 15, 15, 30, 45, 30]\n"
     ]
    }
   ],
   "source": [
    "# Print new_prices\n",
    "print(new_prices)"
   ]
  },
  {
   "cell_type": "code",
   "execution_count": 36,
   "id": "55ca51ee-2f47-4cc9-bfe6-f41ed170c36e",
   "metadata": {
    "tags": []
   },
   "outputs": [],
   "source": [
    "# Create total_revenue\n",
    "total_revenue = 0"
   ]
  },
  {
   "cell_type": "code",
   "execution_count": 37,
   "id": "f028efac-3071-4537-8f8a-dfe8df1c947d",
   "metadata": {
    "tags": []
   },
   "outputs": [],
   "source": [
    "# Calculate total_revenue\n",
    "for i in range(len(hairstyles)):\n",
    "    total_revenue += prices[i] * last_week[i]"
   ]
  },
  {
   "cell_type": "code",
   "execution_count": 38,
   "id": "70395298-f7a8-498a-89c3-dcd16e7710fe",
   "metadata": {
    "tags": []
   },
   "outputs": [
    {
     "name": "stdout",
     "output_type": "stream",
     "text": [
      "1085\n"
     ]
    }
   ],
   "source": [
    "# Print total_revenue\n",
    "print(total_revenue)"
   ]
  },
  {
   "cell_type": "code",
   "execution_count": 39,
   "id": "372b2cdb-c77a-48a3-893d-3870b6e1b76c",
   "metadata": {
    "tags": []
   },
   "outputs": [
    {
     "name": "stdout",
     "output_type": "stream",
     "text": [
      "Average daily revenue is 155.0\n"
     ]
    }
   ],
   "source": [
    "# Create average_daily_revenue\n",
    "average_daily_revenue = total_revenue / 7\n",
    "print(\"Average daily revenue is\", average_daily_revenue)"
   ]
  },
  {
   "cell_type": "code",
   "execution_count": 40,
   "id": "74583020-0ed1-45ff-8c26-3f7158667d28",
   "metadata": {
    "tags": []
   },
   "outputs": [],
   "source": [
    "# Create cuts_under_30\n",
    "custs_under_30 = [hairstyles[i] for i in range(len(new_prices)) if new_prices[i] < 30]"
   ]
  },
  {
   "cell_type": "code",
   "execution_count": 41,
   "id": "940318d5-11c9-4091-bdc7-7594b678bff5",
   "metadata": {
    "tags": []
   },
   "outputs": [
    {
     "name": "stdout",
     "output_type": "stream",
     "text": [
      "['bouffant', 'pixie', 'crew', 'bowl']\n"
     ]
    }
   ],
   "source": [
    "# Print cuts_under_30\n",
    "print(custs_under_30)"
   ]
  }
 ],
 "metadata": {
  "kernelspec": {
   "display_name": "Python 3 (ipykernel)",
   "language": "python",
   "name": "python3"
  },
  "language_info": {
   "codemirror_mode": {
    "name": "ipython",
    "version": 3
   },
   "file_extension": ".py",
   "mimetype": "text/x-python",
   "name": "python",
   "nbconvert_exporter": "python",
   "pygments_lexer": "ipython3",
   "version": "3.11.4"
  }
 },
 "nbformat": 4,
 "nbformat_minor": 5
}
