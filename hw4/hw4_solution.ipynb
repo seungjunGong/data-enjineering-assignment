{
 "cells": [
  {
   "cell_type": "markdown",
   "id": "6ec8e739-bbe5-4ada-b8e9-e7e451d3dcc5",
   "metadata": {},
   "source": [
    "## 과제 4: 나의 조선시대 이름 찾기"
   ]
  },
  {
   "cell_type": "code",
   "execution_count": 13,
   "id": "519c954e-84ec-4f72-a17c-a7abbaf48df6",
   "metadata": {
    "tags": []
   },
   "outputs": [],
   "source": [
    "# 1. 태어난 달(month)에 해당되는 이름의 첫번째 글자를 구하기 위한 리스트를 생성하시오.\n",
    "month_chosun_name = ['쌍', '쇠', '복', '돌', '팽', '육', '쌍', '개', '칠', '갑', '삼', '방']"
   ]
  },
  {
   "cell_type": "code",
   "execution_count": 14,
   "id": "6b8745cb-c167-4288-b6ac-17a40fb3b4ca",
   "metadata": {
    "tags": []
   },
   "outputs": [],
   "source": [
    "# 2. 태어난 날짜(day)에 해당되는 이름의 두번째 글자를 구하기 위한 리스트를 생성하시오.\n",
    "day_chosun_name = ['봉', '구', '욕', '포', '똥', '삼', '식', '석', '놈', '님', '년', '돌', '단', '득', '방', '질', '장', '걸', '래', '룡', '동', '순', '자', '박', '창', '언', '것', '포', '만', '단', '국']"
   ]
  },
  {
   "cell_type": "code",
   "execution_count": 15,
   "id": "feb7dd8a-e302-4170-a052-d23a4993e5b1",
   "metadata": {
    "tags": []
   },
   "outputs": [],
   "source": [
    "# 3. 나의 조선시대 이름을 문자열로 반환하는 함수 get_my_chosun_name() 을 작성하시오.\n",
    "def get_my_chosun_name(family_name, month, day):\n",
    "    chosun_name = family_name\n",
    "    chosun_name += month_chosun_name[month-1]\n",
    "    chosun_name += day_chosun_name[day-1]\n",
    "    return chosun_name"
   ]
  },
  {
   "cell_type": "code",
   "execution_count": 17,
   "id": "060e6a05-c6ca-4837-9d0b-97025603e595",
   "metadata": {
    "tags": []
   },
   "outputs": [
    {
     "name": "stdout",
     "output_type": "stream",
     "text": [
      "당신의 조선시대 이름은 공육것 입니다.\n"
     ]
    }
   ],
   "source": [
    "# 4. 완성된 함수를 호출하여 나의 조선시대 이름을 출력하시오.\n",
    "print(f\"당신의 조선시대 이름은 {get_my_chosun_name('공', 6, 27)} 입니다.\")"
   ]
  }
 ],
 "metadata": {
  "kernelspec": {
   "display_name": "Python 3 (ipykernel)",
   "language": "python",
   "name": "python3"
  },
  "language_info": {
   "codemirror_mode": {
    "name": "ipython",
    "version": 3
   },
   "file_extension": ".py",
   "mimetype": "text/x-python",
   "name": "python",
   "nbconvert_exporter": "python",
   "pygments_lexer": "ipython3",
   "version": "3.11.4"
  }
 },
 "nbformat": 4,
 "nbformat_minor": 5
}
